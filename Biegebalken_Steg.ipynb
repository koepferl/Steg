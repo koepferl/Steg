{
 "cells": [
  {
   "cell_type": "code",
   "execution_count": 1,
   "metadata": {},
   "outputs": [],
   "source": [
    "import numpy as np"
   ]
  },
  {
   "cell_type": "markdown",
   "metadata": {},
   "source": [
    "## Biegebalken\n",
    "\n",
    "### 1) Definition der Größen\n",
    "\n"
   ]
  },
  {
   "cell_type": "code",
   "execution_count": 2,
   "metadata": {},
   "outputs": [
    {
     "name": "stdout",
     "output_type": "stream",
     "text": [
      "I[mm^4] 2083333.3333333333\n"
     ]
    }
   ],
   "source": [
    "# Streckenlast\n",
    "q = 2. #kN/m\n",
    "\n",
    "# Materialeigenschaft\n",
    "E = 21400.  #N/mm^2\n",
    "\n",
    "# Balkendimensionen\n",
    "L = 2.      #m\n",
    "B = 200     #mm\n",
    "H = 50      #mm\n",
    "\n",
    "# Berechnungsstellen für Diagramm\n",
    "x = np.linspace(0, L, 101) #m\n",
    "\n",
    "# Balkenflächenmoment\n",
    "I = B * H**3 / 12 #mm^4 \n",
    "print('I[mm^4]', I)"
   ]
  },
  {
   "cell_type": "markdown",
   "metadata": {},
   "source": [
    "### 2) Steckenlast $q(x)$\n",
    "\n",
    "Konstante Streckenlast $\\rightarrow q(x) = q$"
   ]
  },
  {
   "cell_type": "code",
   "execution_count": 3,
   "metadata": {},
   "outputs": [
    {
     "name": "stdout",
     "output_type": "stream",
     "text": [
      "q [kN/m]: 2.0\n"
     ]
    }
   ],
   "source": [
    "# konstante Streckenlast\n",
    "print('q [kN/m]:', q)"
   ]
  },
  {
   "cell_type": "markdown",
   "metadata": {},
   "source": [
    "#### 2a) Resultierende Kraft $F_q$\n",
    "\n",
    "$$F_q=\\int\\limits_0^Lq(x)dx\\overset{hier}{=}qL$$"
   ]
  },
  {
   "cell_type": "code",
   "execution_count": 4,
   "metadata": {},
   "outputs": [
    {
     "name": "stdout",
     "output_type": "stream",
     "text": [
      "F_q [kN]: 4.0\n"
     ]
    }
   ],
   "source": [
    "# resultierende Kraft\n",
    "F_q = q * L\n",
    "print('F_q [kN]:', F_q)"
   ]
  },
  {
   "cell_type": "markdown",
   "metadata": {},
   "source": [
    "#### 2b) Angriffspunkt\n",
    "\n",
    "$$x_s=\\frac{\\int q(x)xdx}{\\int q(x)dx}=\\frac{L}{2}$$"
   ]
  },
  {
   "cell_type": "code",
   "execution_count": 5,
   "metadata": {},
   "outputs": [
    {
     "name": "stdout",
     "output_type": "stream",
     "text": [
      "x_s [m]: 1.0\n"
     ]
    }
   ],
   "source": [
    "# Angriffspunkt der Kraft\n",
    "x_s = L/2.\n",
    "print('x_s [m]:', x_s)"
   ]
  },
  {
   "cell_type": "markdown",
   "metadata": {},
   "source": [
    "### 3) Auflagerkräfte\n",
    "\n",
    "#### 3a) Horizontal $A_h$\n",
    "\n",
    "$$\\sum\\limits_i F_{i,h}\\overset{!}{=}0$$\n",
    "$$A_h\\overset{hier}{=}0$$\n"
   ]
  },
  {
   "cell_type": "code",
   "execution_count": 6,
   "metadata": {},
   "outputs": [
    {
     "name": "stdout",
     "output_type": "stream",
     "text": [
      "A_h [kN]: 0.0\n"
     ]
    }
   ],
   "source": [
    "# Horizontalkraft\n",
    "A_h = 0.\n",
    "print('A_h [kN]:', A_h)"
   ]
  },
  {
   "cell_type": "markdown",
   "metadata": {},
   "source": [
    "#### 3b) Vertikal $A_v$\n",
    "\n",
    "$$\\begin{aligned}\n",
    "\\sum\\limits_i F_{i,v}\\overset{!}{=}0&\\overset{hier}{=}2A_v-F_q\\\\\n",
    "&\\rightarrow A_v = \\frac{F_q}{2} = \\frac{q}{2}L\n",
    "\\end{aligned}$$"
   ]
  },
  {
   "cell_type": "code",
   "execution_count": 7,
   "metadata": {},
   "outputs": [
    {
     "name": "stdout",
     "output_type": "stream",
     "text": [
      "A_v [kN]: 2.0\n"
     ]
    }
   ],
   "source": [
    "# Vertikalkraft\n",
    "A_v = F_q/2.\n",
    "print('A_v [kN]:', A_v)"
   ]
  },
  {
   "cell_type": "markdown",
   "metadata": {},
   "source": [
    "### 4) Schnittbetrachtung\n",
    "\n",
    "#### 4a) Normalkraft $N$\n",
    "\n",
    "$$\\begin{aligned}\n",
    "\\sum\\limits_i F_{i,h}\\overset{!}{=}0&\\overset{hier}{=}A_h+N\\\\\n",
    "&\\rightarrow N = 0\n",
    "\\end{aligned}$$"
   ]
  },
  {
   "cell_type": "code",
   "execution_count": 8,
   "metadata": {},
   "outputs": [
    {
     "name": "stdout",
     "output_type": "stream",
     "text": [
      "N [kN]: 0.0\n"
     ]
    }
   ],
   "source": [
    "# Normalkraft\n",
    "N = 0.\n",
    "print('N [kN]:', N)"
   ]
  },
  {
   "attachments": {},
   "cell_type": "markdown",
   "metadata": {},
   "source": [
    "#### 4b) Querkraft $Q$\n",
    "\n",
    "$$\\begin{aligned}\n",
    "\\sum\\limits_i F_{i,v}\\overset{!}{=}0&\\overset{hier}{=}A_v-Q-\\int\\limits_0^xq(\\tilde{x})d\\tilde{x}\\\\\n",
    "&\\rightarrow Q(x) = A_v-qx=\\frac{q}{2}(L-2x)\n",
    "\\end{aligned}$$"
   ]
  },
  {
   "cell_type": "code",
   "execution_count": 9,
   "metadata": {},
   "outputs": [
    {
     "name": "stdout",
     "output_type": "stream",
     "text": [
      "Q(x) [kN]: [ 2.   1.2  0.4 -0.4 -1.2 -2. ]\n"
     ]
    }
   ],
   "source": [
    "# Querkraft\n",
    "Q = A_v - q * x\n",
    "print('Q(x) [kN]:', Q[::20])"
   ]
  },
  {
   "cell_type": "markdown",
   "metadata": {},
   "source": [
    "#### 4c) Biegemoment $M_B$\n",
    "\n",
    "$$\\begin{aligned}\n",
    "\\sum\\limits_i M_{i}\\overset{!}{=}0&\\overset{hier}{=}-A_v x +\\int\\limits_0^x\\int\\limits_0^xq(\\tilde{x})d\\tilde{x}d\\tilde{x} + M_B\\\\\n",
    "&\\rightarrow M_B(x) = A_vx-\\frac{q}{2}x^2=\\frac{q}{2}(Lx-x^2)\n",
    "\\end{aligned}$$\n"
   ]
  },
  {
   "cell_type": "code",
   "execution_count": 10,
   "metadata": {},
   "outputs": [
    {
     "name": "stdout",
     "output_type": "stream",
     "text": [
      "M_B(x) [kN]: [0.   0.64 0.96 0.96 0.64 0.  ]\n"
     ]
    }
   ],
   "source": [
    "# Biegemoment\n",
    "M_B = A_v * x - q/2. * x**2\n",
    "print('M_B(x) [kN]:', M_B[::20])"
   ]
  },
  {
   "cell_type": "markdown",
   "metadata": {},
   "source": [
    "### 5) Durchbiegung\n",
    "\n",
    "#### 5a) Biegelinie mit Konstanten\n",
    "$$w_B''(x)=-\\frac{M_B}{EI}$$\n",
    "\n",
    "$$\\begin{aligned}\n",
    "w_B''(x)&\\overset{hier}{=}-\\frac{q}{2EI}(Lx-x^2)\\\\\n",
    "w_B'(x) &=-\\frac{q}{2EI} \\int \\left(Lx-x^2\\right)dx = -\\frac{q}{2EI}\\left[\\frac{L}{2}x^2-\\frac{1}{3}x^3 + C_1\\right]\\\\\n",
    "w_B(x) &=-\\frac{q}{2EI} \\int \\left[\\frac{L}{2}x^2-\\frac{1}{3}x^3 + C_1\\right]dx \\\\\n",
    "&= -\\frac{q}{2EI}\\left[\\frac{L}{6}x^3-\\frac{1}{12}x^4 + C_1x + C_2\\right]\n",
    "\\end{aligned}$$\n",
    "\n",
    "#### 5b) Randwerte\n",
    "\n",
    "$$\\begin{aligned}\n",
    "w_B(x=0)&\\overset{!}{=}0=-\\frac{q}{2EI}C_2\\\\\n",
    "\\rightarrow& C_2=0\\\\\n",
    "w_B(x=L)&\\overset{!}{=}0\\\\\n",
    "\\rightarrow& C_1= -\\frac{L^3}{12}\n",
    "\\end{aligned}\n",
    "$$\n",
    "\n",
    "mit $0=\\frac{L^4}{6}-\\frac{L^4}{12}+C_1L=\\frac{L^3}{12}+C_1$"
   ]
  },
  {
   "cell_type": "markdown",
   "metadata": {},
   "source": [
    "#### 5c) Biegelinie und Randwerte\n",
    "\n",
    "$$\\begin{aligned}\n",
    "w_B(x) &= -\\frac{q}{2EI}\\left[\\frac{L}{6}x^3-\\frac{1}{12}x^4 + C_1x + C_2\\right]\\\\\n",
    "&=-\\frac{q}{2EI}\\left[\\frac{L}{6}x^3-\\frac{1}{12}x^4 - \\frac{L^3}{12}x\\right]\\\\\n",
    "&=-\\frac{q}{24EI}\\left[2Lx^3-x^4 - L^3x\\right]\n",
    "\\end{aligned}$$"
   ]
  },
  {
   "cell_type": "code",
   "execution_count": 11,
   "metadata": {},
   "outputs": [
    {
     "name": "stdout",
     "output_type": "stream",
     "text": [
      "w_B (x) [mm] [-0.          5.55065421  8.90018692  8.90018692  5.55065421 -0.        ]\n"
     ]
    }
   ],
   "source": [
    "# Biegelinie\n",
    "w_B = - q / (24 * E * I) * (2 * L * x**3 - x**4 - L**3 * x) * (1e3)**4\n",
    "print('w_B (x) [mm]', w_B[::20])"
   ]
  },
  {
   "cell_type": "markdown",
   "metadata": {},
   "source": [
    "#### 5d) Maximale Durchbiegung\n",
    "\n",
    "$$\\begin{aligned}\n",
    "w_B^{max} &=w_B(x=L/2)\\\\\n",
    "&=-\\frac{q}{24EI}\\left[2L\\left(\\frac{L}{2}\\right)^3-\\left(\\frac{L}{2}\\right)^4 - L^3\\left(\\frac{L}{2}\\right)\\right]\\\\\n",
    "&=-\\frac{q}{24EI}\\left[\\frac{L^4}{4}-\\frac{L^4}{16}-\\frac{L^4}{2}\\right]=-\\frac{qL^4}{24EI}\\frac{(-5)}{16}\\\\\n",
    "w_B^{max}&=\\frac{5qL^4}{384EI}\n",
    "\\end{aligned}$$"
   ]
  },
  {
   "cell_type": "code",
   "execution_count": 12,
   "metadata": {},
   "outputs": [
    {
     "name": "stdout",
     "output_type": "stream",
     "text": [
      "w_B_max [mm] 9.345794392523365\n"
     ]
    }
   ],
   "source": [
    "# maximale Durchbiegung\n",
    "w_B_max = (5 * q * L**4) * (1e3)**4 / (384 * E * I)\n",
    "print('w_B_max [mm]', w_B_max)"
   ]
  },
  {
   "cell_type": "markdown",
   "metadata": {},
   "source": [
    "### 6) Maximale Normalspannung\n",
    "$$\\sigma_{max}=M_B\\frac{a_{max}}{I}$$\n",
    "\n",
    "$$\\sigma_{max}=M_B\\frac{H}{2I}$$"
   ]
  },
  {
   "cell_type": "code",
   "execution_count": 13,
   "metadata": {},
   "outputs": [
    {
     "name": "stdout",
     "output_type": "stream",
     "text": [
      "sigma_max (x) [N/mm^2] [ 0.    7.68 11.52 11.52  7.68  0.  ]\n"
     ]
    }
   ],
   "source": [
    "# Maximale Normalspannung\n",
    "sigma_max = M_B * 1e3 * 1e3 * H / (2 * I)\n",
    "print('sigma_max (x) [N/mm^2]', sigma_max[::20])"
   ]
  },
  {
   "cell_type": "code",
   "execution_count": 14,
   "metadata": {},
   "outputs": [
    {
     "data": {
      "text/plain": [
       "<matplotlib.legend.Legend at 0x11334ca60>"
      ]
     },
     "execution_count": 14,
     "metadata": {},
     "output_type": "execute_result"
    },
    {
     "data": {
      "image/png": "[encoded data removed]",
      "text/plain": [
       "<Figure size 576x720 with 5 Axes>"
      ]
     },
     "metadata": {
      "needs_background": "light"
     },
     "output_type": "display_data"
    }
   ],
   "source": [
    "import matplotlib.pyplot as plt\n",
    "\n",
    "fig = plt.figure(figsize=(8,10))\n",
    "\n",
    "# Diagramm Normalkraft\n",
    "ax = fig.add_subplot(511)\n",
    "plt.plot(x, N*x, 'r-', label='Normalkraft')\n",
    "plt.ylabel(r'$N$ [kN]')\n",
    "plt.grid()\n",
    "plt.legend()\n",
    "\n",
    "# Diagramm Querkraft\n",
    "ax = fig.add_subplot(512)\n",
    "plt.plot(x, Q, 'r-', label='Querkraft')\n",
    "plt.ylabel(r'$Q(x)$ [kN]')\n",
    "plt.grid()\n",
    "plt.legend()\n",
    "\n",
    "# Diagramm Biegemoment\n",
    "ax = fig.add_subplot(513)\n",
    "plt.plot(x, M_B, 'r-', label='Biegemoment')\n",
    "plt.ylabel(r'$M_B(x)$ [kNm]')\n",
    "plt.grid()\n",
    "plt.legend()\n",
    "\n",
    "# Diagramm Biegelinie\n",
    "ax = fig.add_subplot(514)\n",
    "plt.plot(x, w_B, 'r-', label='Biegelinie')\n",
    "plt.ylabel(r'$w_B(x)$ [mm]')\n",
    "plt.grid()\n",
    "plt.legend()\n",
    "\n",
    "# Diagramm Maximale Normalspannung\n",
    "ax = fig.add_subplot(515)\n",
    "plt.plot(x, sigma_max, 'r-', label='Max. Normalspannung')\n",
    "plt.ylabel(r'$\\sigma_{max}(x)$ [N/mm$^2$]')\n",
    "plt.xlabel('x [m]')\n",
    "plt.grid()\n",
    "plt.legend()"
   ]
  },
  {
   "cell_type": "code",
   "execution_count": null,
   "metadata": {},
   "outputs": [],
   "source": []
  }
 ],
 "metadata": {
  "kernelspec": {
   "display_name": "Python 3",
   "language": "python",
   "name": "python3"
  },
  "language_info": {
   "codemirror_mode": {
    "name": "ipython",
    "version": 3
   },
   "file_extension": ".py",
   "mimetype": "text/x-python",
   "name": "python",
   "nbconvert_exporter": "python",
   "pygments_lexer": "ipython3",
   "version": "3.8.3"
  }
 },
 "nbformat": 4,
 "nbformat_minor": 4
}
